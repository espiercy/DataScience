{
 "metadata": {
  "name": "",
  "signature": "sha256:374d7802b166663f8dabe22977af24d5a79b3850e84d87344f52050d2d807a44"
 },
 "nbformat": 3,
 "nbformat_minor": 0,
 "worksheets": [
  {
   "cells": [
    {
     "cell_type": "markdown",
     "metadata": {},
     "source": [
      "###Breast Cancer: Malignant Tumor Prediction"
     ]
    },
    {
     "cell_type": "markdown",
     "metadata": {},
     "source": [
      "With the provided data, a predictive model was effectively constructed with respect to malignant v. benign breast cancer tumors. The remainder of this document contains the code for doing so accompanied by explanations.\n",
      "\n",
      "###Initial Setup\n",
      "<li> We will be using what is known as the Random Forest Classifier. RFC is a powerful tool for constructing models. It compares     favorably to alternatives such as logistic or linear regression. The advantages will be explained below:\n",
      "\n",
      "<li>RFC builds as many models as we want and selects the strongest one. It does so by splitting data randomly and building separate predictors for the separated data. Many of the models that it constructs will fail, and that does not matter: it will select the strongest predictive model and use that in further predictions. For example, in this model there may very well exist a decision tree that groups all tumros with clump thickness greater than 4 and less than or equal to four. It will build internal models to predict malignancy for each category. Again, this does not need to be a good place to split the data: RFC will stumble upon these splits and incorporate them into a decision tree. These decision trees contain further recursive splits on the data, further breaking it into categories.\n",
      "\n",
      "<li>RFC also applies the concept of bootstraping, which causes the program to replace whatever data it extracts from a model for the generation of future models. These samples are stored in a separate database while the original database remains unchanged.\n",
      "\n",
      "<li> The initial setup only requires us to import our RFC, an Area Under Curve calculator that can tell us how accurate our predictor is, and the pandas module for various useful functions provided therein."
     ]
    },
    {
     "cell_type": "code",
     "collapsed": false,
     "input": [
      "#import metrics and tools\n",
      "from sklearn.ensemble import RandomForestClassifier as rfc\n",
      "from sklearn.metrics import roc_auc_score as ras\n",
      "import pandas as pd\n",
      "%pylab inline\n",
      "\n",
      "#read file to program and assign it to model with designation \"X\"\n",
      "X = pd.read_csv(\"breast_cancer.csv\")\n",
      "\n",
      "X\n"
     ],
     "language": "python",
     "metadata": {},
     "outputs": [
      {
       "output_type": "stream",
       "stream": "stdout",
       "text": [
        "Populating the interactive namespace from numpy and matplotlib\n"
       ]
      },
      {
       "html": [
        "<div style=\"max-height:1000px;max-width:1500px;overflow:auto;\">\n",
        "<table border=\"1\" class=\"dataframe\">\n",
        "  <thead>\n",
        "    <tr style=\"text-align: right;\">\n",
        "      <th></th>\n",
        "      <th>Unnamed: 0</th>\n",
        "      <th>id number</th>\n",
        "      <th>clump_thickness</th>\n",
        "      <th>uniformity_of_cell_size</th>\n",
        "      <th>uniformity_of_cell_shape</th>\n",
        "      <th>marginal_adhesion</th>\n",
        "      <th>epithelial_cell_size</th>\n",
        "      <th>bare_nuclei</th>\n",
        "      <th>bland_chromatin</th>\n",
        "      <th>normal_nucleoli</th>\n",
        "      <th>mitoses</th>\n",
        "      <th>malignant</th>\n",
        "    </tr>\n",
        "  </thead>\n",
        "  <tbody>\n",
        "    <tr>\n",
        "      <th>0  </th>\n",
        "      <td>   0</td>\n",
        "      <td> 1000025</td>\n",
        "      <td>  5</td>\n",
        "      <td>  1</td>\n",
        "      <td>  1</td>\n",
        "      <td>  1</td>\n",
        "      <td> 2</td>\n",
        "      <td>  1</td>\n",
        "      <td>  3</td>\n",
        "      <td>  1</td>\n",
        "      <td> 1</td>\n",
        "      <td> 0</td>\n",
        "    </tr>\n",
        "    <tr>\n",
        "      <th>1  </th>\n",
        "      <td>   1</td>\n",
        "      <td> 1002945</td>\n",
        "      <td>  5</td>\n",
        "      <td>  4</td>\n",
        "      <td>  4</td>\n",
        "      <td>  5</td>\n",
        "      <td> 7</td>\n",
        "      <td> 10</td>\n",
        "      <td>  3</td>\n",
        "      <td>  2</td>\n",
        "      <td> 1</td>\n",
        "      <td> 0</td>\n",
        "    </tr>\n",
        "    <tr>\n",
        "      <th>2  </th>\n",
        "      <td>   2</td>\n",
        "      <td> 1015425</td>\n",
        "      <td>  3</td>\n",
        "      <td>  1</td>\n",
        "      <td>  1</td>\n",
        "      <td>  1</td>\n",
        "      <td> 2</td>\n",
        "      <td>  2</td>\n",
        "      <td>  3</td>\n",
        "      <td>  1</td>\n",
        "      <td> 1</td>\n",
        "      <td> 0</td>\n",
        "    </tr>\n",
        "    <tr>\n",
        "      <th>3  </th>\n",
        "      <td>   3</td>\n",
        "      <td> 1016277</td>\n",
        "      <td>  6</td>\n",
        "      <td>  8</td>\n",
        "      <td>  8</td>\n",
        "      <td>  1</td>\n",
        "      <td> 3</td>\n",
        "      <td>  4</td>\n",
        "      <td>  3</td>\n",
        "      <td>  7</td>\n",
        "      <td> 1</td>\n",
        "      <td> 0</td>\n",
        "    </tr>\n",
        "    <tr>\n",
        "      <th>4  </th>\n",
        "      <td>   4</td>\n",
        "      <td> 1017023</td>\n",
        "      <td>  4</td>\n",
        "      <td>  1</td>\n",
        "      <td>  1</td>\n",
        "      <td>  3</td>\n",
        "      <td> 2</td>\n",
        "      <td>  1</td>\n",
        "      <td>  3</td>\n",
        "      <td>  1</td>\n",
        "      <td> 1</td>\n",
        "      <td> 0</td>\n",
        "    </tr>\n",
        "    <tr>\n",
        "      <th>5  </th>\n",
        "      <td>   5</td>\n",
        "      <td> 1017122</td>\n",
        "      <td>  8</td>\n",
        "      <td> 10</td>\n",
        "      <td> 10</td>\n",
        "      <td>  8</td>\n",
        "      <td> 7</td>\n",
        "      <td> 10</td>\n",
        "      <td>  9</td>\n",
        "      <td>  7</td>\n",
        "      <td> 1</td>\n",
        "      <td> 1</td>\n",
        "    </tr>\n",
        "    <tr>\n",
        "      <th>6  </th>\n",
        "      <td>   6</td>\n",
        "      <td> 1018099</td>\n",
        "      <td>  1</td>\n",
        "      <td>  1</td>\n",
        "      <td>  1</td>\n",
        "      <td>  1</td>\n",
        "      <td> 2</td>\n",
        "      <td> 10</td>\n",
        "      <td>  3</td>\n",
        "      <td>  1</td>\n",
        "      <td> 1</td>\n",
        "      <td> 0</td>\n",
        "    </tr>\n",
        "    <tr>\n",
        "      <th>7  </th>\n",
        "      <td>   7</td>\n",
        "      <td> 1018561</td>\n",
        "      <td>  2</td>\n",
        "      <td>  1</td>\n",
        "      <td>  2</td>\n",
        "      <td>  1</td>\n",
        "      <td> 2</td>\n",
        "      <td>  1</td>\n",
        "      <td>  3</td>\n",
        "      <td>  1</td>\n",
        "      <td> 1</td>\n",
        "      <td> 0</td>\n",
        "    </tr>\n",
        "    <tr>\n",
        "      <th>8  </th>\n",
        "      <td>   8</td>\n",
        "      <td> 1033078</td>\n",
        "      <td>  2</td>\n",
        "      <td>  1</td>\n",
        "      <td>  1</td>\n",
        "      <td>  1</td>\n",
        "      <td> 2</td>\n",
        "      <td>  1</td>\n",
        "      <td>  1</td>\n",
        "      <td>  1</td>\n",
        "      <td> 5</td>\n",
        "      <td> 0</td>\n",
        "    </tr>\n",
        "    <tr>\n",
        "      <th>9  </th>\n",
        "      <td>   9</td>\n",
        "      <td> 1033078</td>\n",
        "      <td>  4</td>\n",
        "      <td>  2</td>\n",
        "      <td>  1</td>\n",
        "      <td>  1</td>\n",
        "      <td> 2</td>\n",
        "      <td>  1</td>\n",
        "      <td>  2</td>\n",
        "      <td>  1</td>\n",
        "      <td> 1</td>\n",
        "      <td> 0</td>\n",
        "    </tr>\n",
        "    <tr>\n",
        "      <th>10 </th>\n",
        "      <td>  10</td>\n",
        "      <td> 1035283</td>\n",
        "      <td>  1</td>\n",
        "      <td>  1</td>\n",
        "      <td>  1</td>\n",
        "      <td>  1</td>\n",
        "      <td> 1</td>\n",
        "      <td>  1</td>\n",
        "      <td>  3</td>\n",
        "      <td>  1</td>\n",
        "      <td> 1</td>\n",
        "      <td> 0</td>\n",
        "    </tr>\n",
        "    <tr>\n",
        "      <th>11 </th>\n",
        "      <td>  11</td>\n",
        "      <td> 1036172</td>\n",
        "      <td>  2</td>\n",
        "      <td>  1</td>\n",
        "      <td>  1</td>\n",
        "      <td>  1</td>\n",
        "      <td> 2</td>\n",
        "      <td>  1</td>\n",
        "      <td>  2</td>\n",
        "      <td>  1</td>\n",
        "      <td> 1</td>\n",
        "      <td> 0</td>\n",
        "    </tr>\n",
        "    <tr>\n",
        "      <th>12 </th>\n",
        "      <td>  12</td>\n",
        "      <td> 1041801</td>\n",
        "      <td>  5</td>\n",
        "      <td>  3</td>\n",
        "      <td>  3</td>\n",
        "      <td>  3</td>\n",
        "      <td> 2</td>\n",
        "      <td>  3</td>\n",
        "      <td>  4</td>\n",
        "      <td>  4</td>\n",
        "      <td> 1</td>\n",
        "      <td> 1</td>\n",
        "    </tr>\n",
        "    <tr>\n",
        "      <th>13 </th>\n",
        "      <td>  13</td>\n",
        "      <td> 1043999</td>\n",
        "      <td>  1</td>\n",
        "      <td>  1</td>\n",
        "      <td>  1</td>\n",
        "      <td>  1</td>\n",
        "      <td> 2</td>\n",
        "      <td>  3</td>\n",
        "      <td>  3</td>\n",
        "      <td>  1</td>\n",
        "      <td> 1</td>\n",
        "      <td> 0</td>\n",
        "    </tr>\n",
        "    <tr>\n",
        "      <th>14 </th>\n",
        "      <td>  14</td>\n",
        "      <td> 1044572</td>\n",
        "      <td>  8</td>\n",
        "      <td>  7</td>\n",
        "      <td>  5</td>\n",
        "      <td> 10</td>\n",
        "      <td> 7</td>\n",
        "      <td>  9</td>\n",
        "      <td>  5</td>\n",
        "      <td>  5</td>\n",
        "      <td> 4</td>\n",
        "      <td> 1</td>\n",
        "    </tr>\n",
        "    <tr>\n",
        "      <th>15 </th>\n",
        "      <td>  15</td>\n",
        "      <td> 1047630</td>\n",
        "      <td>  7</td>\n",
        "      <td>  4</td>\n",
        "      <td>  6</td>\n",
        "      <td>  4</td>\n",
        "      <td> 6</td>\n",
        "      <td>  1</td>\n",
        "      <td>  4</td>\n",
        "      <td>  3</td>\n",
        "      <td> 1</td>\n",
        "      <td> 1</td>\n",
        "    </tr>\n",
        "    <tr>\n",
        "      <th>16 </th>\n",
        "      <td>  16</td>\n",
        "      <td> 1048672</td>\n",
        "      <td>  4</td>\n",
        "      <td>  1</td>\n",
        "      <td>  1</td>\n",
        "      <td>  1</td>\n",
        "      <td> 2</td>\n",
        "      <td>  1</td>\n",
        "      <td>  2</td>\n",
        "      <td>  1</td>\n",
        "      <td> 1</td>\n",
        "      <td> 0</td>\n",
        "    </tr>\n",
        "    <tr>\n",
        "      <th>17 </th>\n",
        "      <td>  17</td>\n",
        "      <td> 1049815</td>\n",
        "      <td>  4</td>\n",
        "      <td>  1</td>\n",
        "      <td>  1</td>\n",
        "      <td>  1</td>\n",
        "      <td> 2</td>\n",
        "      <td>  1</td>\n",
        "      <td>  3</td>\n",
        "      <td>  1</td>\n",
        "      <td> 1</td>\n",
        "      <td> 0</td>\n",
        "    </tr>\n",
        "    <tr>\n",
        "      <th>18 </th>\n",
        "      <td>  18</td>\n",
        "      <td> 1050670</td>\n",
        "      <td> 10</td>\n",
        "      <td>  7</td>\n",
        "      <td>  7</td>\n",
        "      <td>  6</td>\n",
        "      <td> 4</td>\n",
        "      <td> 10</td>\n",
        "      <td>  4</td>\n",
        "      <td>  1</td>\n",
        "      <td> 2</td>\n",
        "      <td> 1</td>\n",
        "    </tr>\n",
        "    <tr>\n",
        "      <th>19 </th>\n",
        "      <td>  19</td>\n",
        "      <td> 1050718</td>\n",
        "      <td>  6</td>\n",
        "      <td>  1</td>\n",
        "      <td>  1</td>\n",
        "      <td>  1</td>\n",
        "      <td> 2</td>\n",
        "      <td>  1</td>\n",
        "      <td>  3</td>\n",
        "      <td>  1</td>\n",
        "      <td> 1</td>\n",
        "      <td> 0</td>\n",
        "    </tr>\n",
        "    <tr>\n",
        "      <th>20 </th>\n",
        "      <td>  20</td>\n",
        "      <td> 1054590</td>\n",
        "      <td>  7</td>\n",
        "      <td>  3</td>\n",
        "      <td>  2</td>\n",
        "      <td> 10</td>\n",
        "      <td> 5</td>\n",
        "      <td> 10</td>\n",
        "      <td>  5</td>\n",
        "      <td>  4</td>\n",
        "      <td> 4</td>\n",
        "      <td> 1</td>\n",
        "    </tr>\n",
        "    <tr>\n",
        "      <th>21 </th>\n",
        "      <td>  21</td>\n",
        "      <td> 1054593</td>\n",
        "      <td> 10</td>\n",
        "      <td>  5</td>\n",
        "      <td>  5</td>\n",
        "      <td>  3</td>\n",
        "      <td> 6</td>\n",
        "      <td>  7</td>\n",
        "      <td>  7</td>\n",
        "      <td> 10</td>\n",
        "      <td> 1</td>\n",
        "      <td> 1</td>\n",
        "    </tr>\n",
        "    <tr>\n",
        "      <th>22 </th>\n",
        "      <td>  22</td>\n",
        "      <td> 1056784</td>\n",
        "      <td>  3</td>\n",
        "      <td>  1</td>\n",
        "      <td>  1</td>\n",
        "      <td>  1</td>\n",
        "      <td> 2</td>\n",
        "      <td>  1</td>\n",
        "      <td>  2</td>\n",
        "      <td>  1</td>\n",
        "      <td> 1</td>\n",
        "      <td> 0</td>\n",
        "    </tr>\n",
        "    <tr>\n",
        "      <th>23 </th>\n",
        "      <td>  23</td>\n",
        "      <td> 1057013</td>\n",
        "      <td>  8</td>\n",
        "      <td>  4</td>\n",
        "      <td>  5</td>\n",
        "      <td>  1</td>\n",
        "      <td> 2</td>\n",
        "      <td> -1</td>\n",
        "      <td>  7</td>\n",
        "      <td>  3</td>\n",
        "      <td> 1</td>\n",
        "      <td> 1</td>\n",
        "    </tr>\n",
        "    <tr>\n",
        "      <th>24 </th>\n",
        "      <td>  24</td>\n",
        "      <td> 1059552</td>\n",
        "      <td>  1</td>\n",
        "      <td>  1</td>\n",
        "      <td>  1</td>\n",
        "      <td>  1</td>\n",
        "      <td> 2</td>\n",
        "      <td>  1</td>\n",
        "      <td>  3</td>\n",
        "      <td>  1</td>\n",
        "      <td> 1</td>\n",
        "      <td> 0</td>\n",
        "    </tr>\n",
        "    <tr>\n",
        "      <th>25 </th>\n",
        "      <td>  25</td>\n",
        "      <td> 1065726</td>\n",
        "      <td>  5</td>\n",
        "      <td>  2</td>\n",
        "      <td>  3</td>\n",
        "      <td>  4</td>\n",
        "      <td> 2</td>\n",
        "      <td>  7</td>\n",
        "      <td>  3</td>\n",
        "      <td>  6</td>\n",
        "      <td> 1</td>\n",
        "      <td> 1</td>\n",
        "    </tr>\n",
        "    <tr>\n",
        "      <th>26 </th>\n",
        "      <td>  26</td>\n",
        "      <td> 1066373</td>\n",
        "      <td>  3</td>\n",
        "      <td>  2</td>\n",
        "      <td>  1</td>\n",
        "      <td>  1</td>\n",
        "      <td> 1</td>\n",
        "      <td>  1</td>\n",
        "      <td>  2</td>\n",
        "      <td>  1</td>\n",
        "      <td> 1</td>\n",
        "      <td> 0</td>\n",
        "    </tr>\n",
        "    <tr>\n",
        "      <th>27 </th>\n",
        "      <td>  27</td>\n",
        "      <td> 1066979</td>\n",
        "      <td>  5</td>\n",
        "      <td>  1</td>\n",
        "      <td>  1</td>\n",
        "      <td>  1</td>\n",
        "      <td> 2</td>\n",
        "      <td>  1</td>\n",
        "      <td>  2</td>\n",
        "      <td>  1</td>\n",
        "      <td> 1</td>\n",
        "      <td> 0</td>\n",
        "    </tr>\n",
        "    <tr>\n",
        "      <th>28 </th>\n",
        "      <td>  28</td>\n",
        "      <td> 1067444</td>\n",
        "      <td>  2</td>\n",
        "      <td>  1</td>\n",
        "      <td>  1</td>\n",
        "      <td>  1</td>\n",
        "      <td> 2</td>\n",
        "      <td>  1</td>\n",
        "      <td>  2</td>\n",
        "      <td>  1</td>\n",
        "      <td> 1</td>\n",
        "      <td> 0</td>\n",
        "    </tr>\n",
        "    <tr>\n",
        "      <th>29 </th>\n",
        "      <td>  29</td>\n",
        "      <td> 1070935</td>\n",
        "      <td>  1</td>\n",
        "      <td>  1</td>\n",
        "      <td>  3</td>\n",
        "      <td>  1</td>\n",
        "      <td> 2</td>\n",
        "      <td>  1</td>\n",
        "      <td>  1</td>\n",
        "      <td>  1</td>\n",
        "      <td> 1</td>\n",
        "      <td> 0</td>\n",
        "    </tr>\n",
        "    <tr>\n",
        "      <th>...</th>\n",
        "      <td>...</td>\n",
        "      <td>...</td>\n",
        "      <td>...</td>\n",
        "      <td>...</td>\n",
        "      <td>...</td>\n",
        "      <td>...</td>\n",
        "      <td>...</td>\n",
        "      <td>...</td>\n",
        "      <td>...</td>\n",
        "      <td>...</td>\n",
        "      <td>...</td>\n",
        "      <td>...</td>\n",
        "    </tr>\n",
        "    <tr>\n",
        "      <th>669</th>\n",
        "      <td> 669</td>\n",
        "      <td> 1350423</td>\n",
        "      <td>  5</td>\n",
        "      <td> 10</td>\n",
        "      <td> 10</td>\n",
        "      <td>  8</td>\n",
        "      <td> 5</td>\n",
        "      <td>  5</td>\n",
        "      <td>  7</td>\n",
        "      <td> 10</td>\n",
        "      <td> 1</td>\n",
        "      <td> 1</td>\n",
        "    </tr>\n",
        "    <tr>\n",
        "      <th>670</th>\n",
        "      <td> 670</td>\n",
        "      <td> 1352848</td>\n",
        "      <td>  3</td>\n",
        "      <td> 10</td>\n",
        "      <td>  7</td>\n",
        "      <td>  8</td>\n",
        "      <td> 5</td>\n",
        "      <td>  8</td>\n",
        "      <td>  7</td>\n",
        "      <td>  4</td>\n",
        "      <td> 1</td>\n",
        "      <td> 1</td>\n",
        "    </tr>\n",
        "    <tr>\n",
        "      <th>671</th>\n",
        "      <td> 671</td>\n",
        "      <td> 1353092</td>\n",
        "      <td>  3</td>\n",
        "      <td>  2</td>\n",
        "      <td>  1</td>\n",
        "      <td>  2</td>\n",
        "      <td> 2</td>\n",
        "      <td>  1</td>\n",
        "      <td>  3</td>\n",
        "      <td>  1</td>\n",
        "      <td> 1</td>\n",
        "      <td> 0</td>\n",
        "    </tr>\n",
        "    <tr>\n",
        "      <th>672</th>\n",
        "      <td> 672</td>\n",
        "      <td> 1354840</td>\n",
        "      <td>  2</td>\n",
        "      <td>  1</td>\n",
        "      <td>  1</td>\n",
        "      <td>  1</td>\n",
        "      <td> 2</td>\n",
        "      <td>  1</td>\n",
        "      <td>  3</td>\n",
        "      <td>  1</td>\n",
        "      <td> 1</td>\n",
        "      <td> 0</td>\n",
        "    </tr>\n",
        "    <tr>\n",
        "      <th>673</th>\n",
        "      <td> 673</td>\n",
        "      <td> 1354840</td>\n",
        "      <td>  5</td>\n",
        "      <td>  3</td>\n",
        "      <td>  2</td>\n",
        "      <td>  1</td>\n",
        "      <td> 3</td>\n",
        "      <td>  1</td>\n",
        "      <td>  1</td>\n",
        "      <td>  1</td>\n",
        "      <td> 1</td>\n",
        "      <td> 0</td>\n",
        "    </tr>\n",
        "    <tr>\n",
        "      <th>674</th>\n",
        "      <td> 674</td>\n",
        "      <td> 1355260</td>\n",
        "      <td>  1</td>\n",
        "      <td>  1</td>\n",
        "      <td>  1</td>\n",
        "      <td>  1</td>\n",
        "      <td> 2</td>\n",
        "      <td>  1</td>\n",
        "      <td>  2</td>\n",
        "      <td>  1</td>\n",
        "      <td> 1</td>\n",
        "      <td> 0</td>\n",
        "    </tr>\n",
        "    <tr>\n",
        "      <th>675</th>\n",
        "      <td> 675</td>\n",
        "      <td> 1365075</td>\n",
        "      <td>  4</td>\n",
        "      <td>  1</td>\n",
        "      <td>  4</td>\n",
        "      <td>  1</td>\n",
        "      <td> 2</td>\n",
        "      <td>  1</td>\n",
        "      <td>  1</td>\n",
        "      <td>  1</td>\n",
        "      <td> 1</td>\n",
        "      <td> 0</td>\n",
        "    </tr>\n",
        "    <tr>\n",
        "      <th>676</th>\n",
        "      <td> 676</td>\n",
        "      <td> 1365328</td>\n",
        "      <td>  1</td>\n",
        "      <td>  1</td>\n",
        "      <td>  2</td>\n",
        "      <td>  1</td>\n",
        "      <td> 2</td>\n",
        "      <td>  1</td>\n",
        "      <td>  2</td>\n",
        "      <td>  1</td>\n",
        "      <td> 1</td>\n",
        "      <td> 0</td>\n",
        "    </tr>\n",
        "    <tr>\n",
        "      <th>677</th>\n",
        "      <td> 677</td>\n",
        "      <td> 1368267</td>\n",
        "      <td>  5</td>\n",
        "      <td>  1</td>\n",
        "      <td>  1</td>\n",
        "      <td>  1</td>\n",
        "      <td> 2</td>\n",
        "      <td>  1</td>\n",
        "      <td>  1</td>\n",
        "      <td>  1</td>\n",
        "      <td> 1</td>\n",
        "      <td> 0</td>\n",
        "    </tr>\n",
        "    <tr>\n",
        "      <th>678</th>\n",
        "      <td> 678</td>\n",
        "      <td> 1368273</td>\n",
        "      <td>  1</td>\n",
        "      <td>  1</td>\n",
        "      <td>  1</td>\n",
        "      <td>  1</td>\n",
        "      <td> 2</td>\n",
        "      <td>  1</td>\n",
        "      <td>  1</td>\n",
        "      <td>  1</td>\n",
        "      <td> 1</td>\n",
        "      <td> 0</td>\n",
        "    </tr>\n",
        "    <tr>\n",
        "      <th>679</th>\n",
        "      <td> 679</td>\n",
        "      <td> 1368882</td>\n",
        "      <td>  2</td>\n",
        "      <td>  1</td>\n",
        "      <td>  1</td>\n",
        "      <td>  1</td>\n",
        "      <td> 2</td>\n",
        "      <td>  1</td>\n",
        "      <td>  1</td>\n",
        "      <td>  1</td>\n",
        "      <td> 1</td>\n",
        "      <td> 0</td>\n",
        "    </tr>\n",
        "    <tr>\n",
        "      <th>680</th>\n",
        "      <td> 680</td>\n",
        "      <td> 1369821</td>\n",
        "      <td> 10</td>\n",
        "      <td> 10</td>\n",
        "      <td> 10</td>\n",
        "      <td> 10</td>\n",
        "      <td> 5</td>\n",
        "      <td> 10</td>\n",
        "      <td> 10</td>\n",
        "      <td> 10</td>\n",
        "      <td> 7</td>\n",
        "      <td> 1</td>\n",
        "    </tr>\n",
        "    <tr>\n",
        "      <th>681</th>\n",
        "      <td> 681</td>\n",
        "      <td> 1371026</td>\n",
        "      <td>  5</td>\n",
        "      <td> 10</td>\n",
        "      <td> 10</td>\n",
        "      <td> 10</td>\n",
        "      <td> 4</td>\n",
        "      <td> 10</td>\n",
        "      <td>  5</td>\n",
        "      <td>  6</td>\n",
        "      <td> 3</td>\n",
        "      <td> 1</td>\n",
        "    </tr>\n",
        "    <tr>\n",
        "      <th>682</th>\n",
        "      <td> 682</td>\n",
        "      <td> 1371920</td>\n",
        "      <td>  5</td>\n",
        "      <td>  1</td>\n",
        "      <td>  1</td>\n",
        "      <td>  1</td>\n",
        "      <td> 2</td>\n",
        "      <td>  1</td>\n",
        "      <td>  3</td>\n",
        "      <td>  2</td>\n",
        "      <td> 1</td>\n",
        "      <td> 0</td>\n",
        "    </tr>\n",
        "    <tr>\n",
        "      <th>683</th>\n",
        "      <td> 683</td>\n",
        "      <td>  466906</td>\n",
        "      <td>  1</td>\n",
        "      <td>  1</td>\n",
        "      <td>  1</td>\n",
        "      <td>  1</td>\n",
        "      <td> 2</td>\n",
        "      <td>  1</td>\n",
        "      <td>  1</td>\n",
        "      <td>  1</td>\n",
        "      <td> 1</td>\n",
        "      <td> 0</td>\n",
        "    </tr>\n",
        "    <tr>\n",
        "      <th>684</th>\n",
        "      <td> 684</td>\n",
        "      <td>  466906</td>\n",
        "      <td>  1</td>\n",
        "      <td>  1</td>\n",
        "      <td>  1</td>\n",
        "      <td>  1</td>\n",
        "      <td> 2</td>\n",
        "      <td>  1</td>\n",
        "      <td>  1</td>\n",
        "      <td>  1</td>\n",
        "      <td> 1</td>\n",
        "      <td> 0</td>\n",
        "    </tr>\n",
        "    <tr>\n",
        "      <th>685</th>\n",
        "      <td> 685</td>\n",
        "      <td>  534555</td>\n",
        "      <td>  1</td>\n",
        "      <td>  1</td>\n",
        "      <td>  1</td>\n",
        "      <td>  1</td>\n",
        "      <td> 2</td>\n",
        "      <td>  1</td>\n",
        "      <td>  1</td>\n",
        "      <td>  1</td>\n",
        "      <td> 1</td>\n",
        "      <td> 0</td>\n",
        "    </tr>\n",
        "    <tr>\n",
        "      <th>686</th>\n",
        "      <td> 686</td>\n",
        "      <td>  536708</td>\n",
        "      <td>  1</td>\n",
        "      <td>  1</td>\n",
        "      <td>  1</td>\n",
        "      <td>  1</td>\n",
        "      <td> 2</td>\n",
        "      <td>  1</td>\n",
        "      <td>  1</td>\n",
        "      <td>  1</td>\n",
        "      <td> 1</td>\n",
        "      <td> 0</td>\n",
        "    </tr>\n",
        "    <tr>\n",
        "      <th>687</th>\n",
        "      <td> 687</td>\n",
        "      <td>  566346</td>\n",
        "      <td>  3</td>\n",
        "      <td>  1</td>\n",
        "      <td>  1</td>\n",
        "      <td>  1</td>\n",
        "      <td> 2</td>\n",
        "      <td>  1</td>\n",
        "      <td>  2</td>\n",
        "      <td>  3</td>\n",
        "      <td> 1</td>\n",
        "      <td> 0</td>\n",
        "    </tr>\n",
        "    <tr>\n",
        "      <th>688</th>\n",
        "      <td> 688</td>\n",
        "      <td>  603148</td>\n",
        "      <td>  4</td>\n",
        "      <td>  1</td>\n",
        "      <td>  1</td>\n",
        "      <td>  1</td>\n",
        "      <td> 2</td>\n",
        "      <td>  1</td>\n",
        "      <td>  1</td>\n",
        "      <td>  1</td>\n",
        "      <td> 1</td>\n",
        "      <td> 0</td>\n",
        "    </tr>\n",
        "    <tr>\n",
        "      <th>689</th>\n",
        "      <td> 689</td>\n",
        "      <td>  654546</td>\n",
        "      <td>  1</td>\n",
        "      <td>  1</td>\n",
        "      <td>  1</td>\n",
        "      <td>  1</td>\n",
        "      <td> 2</td>\n",
        "      <td>  1</td>\n",
        "      <td>  1</td>\n",
        "      <td>  1</td>\n",
        "      <td> 8</td>\n",
        "      <td> 0</td>\n",
        "    </tr>\n",
        "    <tr>\n",
        "      <th>690</th>\n",
        "      <td> 690</td>\n",
        "      <td>  654546</td>\n",
        "      <td>  1</td>\n",
        "      <td>  1</td>\n",
        "      <td>  1</td>\n",
        "      <td>  3</td>\n",
        "      <td> 2</td>\n",
        "      <td>  1</td>\n",
        "      <td>  1</td>\n",
        "      <td>  1</td>\n",
        "      <td> 1</td>\n",
        "      <td> 0</td>\n",
        "    </tr>\n",
        "    <tr>\n",
        "      <th>691</th>\n",
        "      <td> 691</td>\n",
        "      <td>  695091</td>\n",
        "      <td>  5</td>\n",
        "      <td> 10</td>\n",
        "      <td> 10</td>\n",
        "      <td>  5</td>\n",
        "      <td> 4</td>\n",
        "      <td>  5</td>\n",
        "      <td>  4</td>\n",
        "      <td>  4</td>\n",
        "      <td> 1</td>\n",
        "      <td> 1</td>\n",
        "    </tr>\n",
        "    <tr>\n",
        "      <th>692</th>\n",
        "      <td> 692</td>\n",
        "      <td>  714039</td>\n",
        "      <td>  3</td>\n",
        "      <td>  1</td>\n",
        "      <td>  1</td>\n",
        "      <td>  1</td>\n",
        "      <td> 2</td>\n",
        "      <td>  1</td>\n",
        "      <td>  1</td>\n",
        "      <td>  1</td>\n",
        "      <td> 1</td>\n",
        "      <td> 0</td>\n",
        "    </tr>\n",
        "    <tr>\n",
        "      <th>693</th>\n",
        "      <td> 693</td>\n",
        "      <td>  763235</td>\n",
        "      <td>  3</td>\n",
        "      <td>  1</td>\n",
        "      <td>  1</td>\n",
        "      <td>  1</td>\n",
        "      <td> 2</td>\n",
        "      <td>  1</td>\n",
        "      <td>  2</td>\n",
        "      <td>  1</td>\n",
        "      <td> 2</td>\n",
        "      <td> 0</td>\n",
        "    </tr>\n",
        "    <tr>\n",
        "      <th>694</th>\n",
        "      <td> 694</td>\n",
        "      <td>  776715</td>\n",
        "      <td>  3</td>\n",
        "      <td>  1</td>\n",
        "      <td>  1</td>\n",
        "      <td>  1</td>\n",
        "      <td> 3</td>\n",
        "      <td>  2</td>\n",
        "      <td>  1</td>\n",
        "      <td>  1</td>\n",
        "      <td> 1</td>\n",
        "      <td> 0</td>\n",
        "    </tr>\n",
        "    <tr>\n",
        "      <th>695</th>\n",
        "      <td> 695</td>\n",
        "      <td>  841769</td>\n",
        "      <td>  2</td>\n",
        "      <td>  1</td>\n",
        "      <td>  1</td>\n",
        "      <td>  1</td>\n",
        "      <td> 2</td>\n",
        "      <td>  1</td>\n",
        "      <td>  1</td>\n",
        "      <td>  1</td>\n",
        "      <td> 1</td>\n",
        "      <td> 0</td>\n",
        "    </tr>\n",
        "    <tr>\n",
        "      <th>696</th>\n",
        "      <td> 696</td>\n",
        "      <td>  888820</td>\n",
        "      <td>  5</td>\n",
        "      <td> 10</td>\n",
        "      <td> 10</td>\n",
        "      <td>  3</td>\n",
        "      <td> 7</td>\n",
        "      <td>  3</td>\n",
        "      <td>  8</td>\n",
        "      <td> 10</td>\n",
        "      <td> 2</td>\n",
        "      <td> 1</td>\n",
        "    </tr>\n",
        "    <tr>\n",
        "      <th>697</th>\n",
        "      <td> 697</td>\n",
        "      <td>  897471</td>\n",
        "      <td>  4</td>\n",
        "      <td>  8</td>\n",
        "      <td>  6</td>\n",
        "      <td>  4</td>\n",
        "      <td> 3</td>\n",
        "      <td>  4</td>\n",
        "      <td> 10</td>\n",
        "      <td>  6</td>\n",
        "      <td> 1</td>\n",
        "      <td> 1</td>\n",
        "    </tr>\n",
        "    <tr>\n",
        "      <th>698</th>\n",
        "      <td> 698</td>\n",
        "      <td>  897471</td>\n",
        "      <td>  4</td>\n",
        "      <td>  8</td>\n",
        "      <td>  8</td>\n",
        "      <td>  5</td>\n",
        "      <td> 4</td>\n",
        "      <td>  5</td>\n",
        "      <td> 10</td>\n",
        "      <td>  4</td>\n",
        "      <td> 1</td>\n",
        "      <td> 1</td>\n",
        "    </tr>\n",
        "  </tbody>\n",
        "</table>\n",
        "<p>699 rows \u00d7 12 columns</p>\n",
        "</div>"
       ],
       "metadata": {},
       "output_type": "pyout",
       "prompt_number": 86,
       "text": [
        "     Unnamed: 0  id number  clump_thickness  uniformity_of_cell_size  \\\n",
        "0             0    1000025                5                        1   \n",
        "1             1    1002945                5                        4   \n",
        "2             2    1015425                3                        1   \n",
        "3             3    1016277                6                        8   \n",
        "4             4    1017023                4                        1   \n",
        "5             5    1017122                8                       10   \n",
        "6             6    1018099                1                        1   \n",
        "7             7    1018561                2                        1   \n",
        "8             8    1033078                2                        1   \n",
        "9             9    1033078                4                        2   \n",
        "10           10    1035283                1                        1   \n",
        "11           11    1036172                2                        1   \n",
        "12           12    1041801                5                        3   \n",
        "13           13    1043999                1                        1   \n",
        "14           14    1044572                8                        7   \n",
        "15           15    1047630                7                        4   \n",
        "16           16    1048672                4                        1   \n",
        "17           17    1049815                4                        1   \n",
        "18           18    1050670               10                        7   \n",
        "19           19    1050718                6                        1   \n",
        "20           20    1054590                7                        3   \n",
        "21           21    1054593               10                        5   \n",
        "22           22    1056784                3                        1   \n",
        "23           23    1057013                8                        4   \n",
        "24           24    1059552                1                        1   \n",
        "25           25    1065726                5                        2   \n",
        "26           26    1066373                3                        2   \n",
        "27           27    1066979                5                        1   \n",
        "28           28    1067444                2                        1   \n",
        "29           29    1070935                1                        1   \n",
        "..          ...        ...              ...                      ...   \n",
        "669         669    1350423                5                       10   \n",
        "670         670    1352848                3                       10   \n",
        "671         671    1353092                3                        2   \n",
        "672         672    1354840                2                        1   \n",
        "673         673    1354840                5                        3   \n",
        "674         674    1355260                1                        1   \n",
        "675         675    1365075                4                        1   \n",
        "676         676    1365328                1                        1   \n",
        "677         677    1368267                5                        1   \n",
        "678         678    1368273                1                        1   \n",
        "679         679    1368882                2                        1   \n",
        "680         680    1369821               10                       10   \n",
        "681         681    1371026                5                       10   \n",
        "682         682    1371920                5                        1   \n",
        "683         683     466906                1                        1   \n",
        "684         684     466906                1                        1   \n",
        "685         685     534555                1                        1   \n",
        "686         686     536708                1                        1   \n",
        "687         687     566346                3                        1   \n",
        "688         688     603148                4                        1   \n",
        "689         689     654546                1                        1   \n",
        "690         690     654546                1                        1   \n",
        "691         691     695091                5                       10   \n",
        "692         692     714039                3                        1   \n",
        "693         693     763235                3                        1   \n",
        "694         694     776715                3                        1   \n",
        "695         695     841769                2                        1   \n",
        "696         696     888820                5                       10   \n",
        "697         697     897471                4                        8   \n",
        "698         698     897471                4                        8   \n",
        "\n",
        "     uniformity_of_cell_shape  marginal_adhesion  epithelial_cell_size  \\\n",
        "0                           1                  1                     2   \n",
        "1                           4                  5                     7   \n",
        "2                           1                  1                     2   \n",
        "3                           8                  1                     3   \n",
        "4                           1                  3                     2   \n",
        "5                          10                  8                     7   \n",
        "6                           1                  1                     2   \n",
        "7                           2                  1                     2   \n",
        "8                           1                  1                     2   \n",
        "9                           1                  1                     2   \n",
        "10                          1                  1                     1   \n",
        "11                          1                  1                     2   \n",
        "12                          3                  3                     2   \n",
        "13                          1                  1                     2   \n",
        "14                          5                 10                     7   \n",
        "15                          6                  4                     6   \n",
        "16                          1                  1                     2   \n",
        "17                          1                  1                     2   \n",
        "18                          7                  6                     4   \n",
        "19                          1                  1                     2   \n",
        "20                          2                 10                     5   \n",
        "21                          5                  3                     6   \n",
        "22                          1                  1                     2   \n",
        "23                          5                  1                     2   \n",
        "24                          1                  1                     2   \n",
        "25                          3                  4                     2   \n",
        "26                          1                  1                     1   \n",
        "27                          1                  1                     2   \n",
        "28                          1                  1                     2   \n",
        "29                          3                  1                     2   \n",
        "..                        ...                ...                   ...   \n",
        "669                        10                  8                     5   \n",
        "670                         7                  8                     5   \n",
        "671                         1                  2                     2   \n",
        "672                         1                  1                     2   \n",
        "673                         2                  1                     3   \n",
        "674                         1                  1                     2   \n",
        "675                         4                  1                     2   \n",
        "676                         2                  1                     2   \n",
        "677                         1                  1                     2   \n",
        "678                         1                  1                     2   \n",
        "679                         1                  1                     2   \n",
        "680                        10                 10                     5   \n",
        "681                        10                 10                     4   \n",
        "682                         1                  1                     2   \n",
        "683                         1                  1                     2   \n",
        "684                         1                  1                     2   \n",
        "685                         1                  1                     2   \n",
        "686                         1                  1                     2   \n",
        "687                         1                  1                     2   \n",
        "688                         1                  1                     2   \n",
        "689                         1                  1                     2   \n",
        "690                         1                  3                     2   \n",
        "691                        10                  5                     4   \n",
        "692                         1                  1                     2   \n",
        "693                         1                  1                     2   \n",
        "694                         1                  1                     3   \n",
        "695                         1                  1                     2   \n",
        "696                        10                  3                     7   \n",
        "697                         6                  4                     3   \n",
        "698                         8                  5                     4   \n",
        "\n",
        "     bare_nuclei  bland_chromatin  normal_nucleoli  mitoses  malignant  \n",
        "0              1                3                1        1          0  \n",
        "1             10                3                2        1          0  \n",
        "2              2                3                1        1          0  \n",
        "3              4                3                7        1          0  \n",
        "4              1                3                1        1          0  \n",
        "5             10                9                7        1          1  \n",
        "6             10                3                1        1          0  \n",
        "7              1                3                1        1          0  \n",
        "8              1                1                1        5          0  \n",
        "9              1                2                1        1          0  \n",
        "10             1                3                1        1          0  \n",
        "11             1                2                1        1          0  \n",
        "12             3                4                4        1          1  \n",
        "13             3                3                1        1          0  \n",
        "14             9                5                5        4          1  \n",
        "15             1                4                3        1          1  \n",
        "16             1                2                1        1          0  \n",
        "17             1                3                1        1          0  \n",
        "18            10                4                1        2          1  \n",
        "19             1                3                1        1          0  \n",
        "20            10                5                4        4          1  \n",
        "21             7                7               10        1          1  \n",
        "22             1                2                1        1          0  \n",
        "23            -1                7                3        1          1  \n",
        "24             1                3                1        1          0  \n",
        "25             7                3                6        1          1  \n",
        "26             1                2                1        1          0  \n",
        "27             1                2                1        1          0  \n",
        "28             1                2                1        1          0  \n",
        "29             1                1                1        1          0  \n",
        "..           ...              ...              ...      ...        ...  \n",
        "669            5                7               10        1          1  \n",
        "670            8                7                4        1          1  \n",
        "671            1                3                1        1          0  \n",
        "672            1                3                1        1          0  \n",
        "673            1                1                1        1          0  \n",
        "674            1                2                1        1          0  \n",
        "675            1                1                1        1          0  \n",
        "676            1                2                1        1          0  \n",
        "677            1                1                1        1          0  \n",
        "678            1                1                1        1          0  \n",
        "679            1                1                1        1          0  \n",
        "680           10               10               10        7          1  \n",
        "681           10                5                6        3          1  \n",
        "682            1                3                2        1          0  \n",
        "683            1                1                1        1          0  \n",
        "684            1                1                1        1          0  \n",
        "685            1                1                1        1          0  \n",
        "686            1                1                1        1          0  \n",
        "687            1                2                3        1          0  \n",
        "688            1                1                1        1          0  \n",
        "689            1                1                1        8          0  \n",
        "690            1                1                1        1          0  \n",
        "691            5                4                4        1          1  \n",
        "692            1                1                1        1          0  \n",
        "693            1                2                1        2          0  \n",
        "694            2                1                1        1          0  \n",
        "695            1                1                1        1          0  \n",
        "696            3                8               10        2          1  \n",
        "697            4               10                6        1          1  \n",
        "698            5               10                4        1          1  \n",
        "\n",
        "[699 rows x 12 columns]"
       ]
      }
     ],
     "prompt_number": 86
    },
    {
     "cell_type": "markdown",
     "metadata": {},
     "source": [
      "This is the dataset presented to me. The following line of code will place the attribute \"malignant\" into a dataset that we are trying to predict."
     ]
    },
    {
     "cell_type": "code",
     "collapsed": false,
     "input": [
      "#remove target (dependent) variable \"malignant\" from dataset and store as \"y\"\n",
      "y = X.pop(\"malignant\")\n",
      "y"
     ],
     "language": "python",
     "metadata": {},
     "outputs": [
      {
       "metadata": {},
       "output_type": "pyout",
       "prompt_number": 87,
       "text": [
        "0     0\n",
        "1     0\n",
        "2     0\n",
        "3     0\n",
        "4     0\n",
        "5     1\n",
        "6     0\n",
        "7     0\n",
        "8     0\n",
        "9     0\n",
        "10    0\n",
        "11    0\n",
        "12    1\n",
        "13    0\n",
        "14    1\n",
        "...\n",
        "684    0\n",
        "685    0\n",
        "686    0\n",
        "687    0\n",
        "688    0\n",
        "689    0\n",
        "690    0\n",
        "691    1\n",
        "692    0\n",
        "693    0\n",
        "694    0\n",
        "695    0\n",
        "696    1\n",
        "697    1\n",
        "698    1\n",
        "Name: malignant, Length: 699, dtype: int64"
       ]
      }
     ],
     "prompt_number": 87
    },
    {
     "cell_type": "markdown",
     "metadata": {},
     "source": [
      "Our data has been transferred into the program and appropriately sorted. We can begin a brief exploratory data analysis.\n",
      "\n",
      "###EDA\n",
      "<li> A view of our data, at first glance"
     ]
    },
    {
     "cell_type": "code",
     "collapsed": false,
     "input": [
      "#function to view data types, distribution\n",
      "X.describe()"
     ],
     "language": "python",
     "metadata": {},
     "outputs": [
      {
       "html": [
        "<div style=\"max-height:1000px;max-width:1500px;overflow:auto;\">\n",
        "<table border=\"1\" class=\"dataframe\">\n",
        "  <thead>\n",
        "    <tr style=\"text-align: right;\">\n",
        "      <th></th>\n",
        "      <th>Unnamed: 0</th>\n",
        "      <th>id number</th>\n",
        "      <th>clump_thickness</th>\n",
        "      <th>uniformity_of_cell_size</th>\n",
        "      <th>uniformity_of_cell_shape</th>\n",
        "      <th>marginal_adhesion</th>\n",
        "      <th>epithelial_cell_size</th>\n",
        "      <th>bare_nuclei</th>\n",
        "      <th>bland_chromatin</th>\n",
        "      <th>normal_nucleoli</th>\n",
        "      <th>mitoses</th>\n",
        "    </tr>\n",
        "  </thead>\n",
        "  <tbody>\n",
        "    <tr>\n",
        "      <th>count</th>\n",
        "      <td> 699.000000</td>\n",
        "      <td>      699.000000</td>\n",
        "      <td> 699.000000</td>\n",
        "      <td> 699.000000</td>\n",
        "      <td> 699.000000</td>\n",
        "      <td> 699.000000</td>\n",
        "      <td> 699.000000</td>\n",
        "      <td> 699.000000</td>\n",
        "      <td> 699.000000</td>\n",
        "      <td> 699.000000</td>\n",
        "      <td> 699.000000</td>\n",
        "    </tr>\n",
        "    <tr>\n",
        "      <th>mean</th>\n",
        "      <td> 349.000000</td>\n",
        "      <td>  1071704.098712</td>\n",
        "      <td>   4.417740</td>\n",
        "      <td>   3.134478</td>\n",
        "      <td>   3.207439</td>\n",
        "      <td>   2.806867</td>\n",
        "      <td>   3.216023</td>\n",
        "      <td>   3.440629</td>\n",
        "      <td>   3.437768</td>\n",
        "      <td>   2.866953</td>\n",
        "      <td>   1.589413</td>\n",
        "    </tr>\n",
        "    <tr>\n",
        "      <th>std</th>\n",
        "      <td> 201.928205</td>\n",
        "      <td>   617095.729819</td>\n",
        "      <td>   2.815741</td>\n",
        "      <td>   3.051459</td>\n",
        "      <td>   2.971913</td>\n",
        "      <td>   2.855379</td>\n",
        "      <td>   2.214300</td>\n",
        "      <td>   3.665507</td>\n",
        "      <td>   2.438364</td>\n",
        "      <td>   3.053634</td>\n",
        "      <td>   1.715078</td>\n",
        "    </tr>\n",
        "    <tr>\n",
        "      <th>min</th>\n",
        "      <td>   0.000000</td>\n",
        "      <td>    61634.000000</td>\n",
        "      <td>   1.000000</td>\n",
        "      <td>   1.000000</td>\n",
        "      <td>   1.000000</td>\n",
        "      <td>   1.000000</td>\n",
        "      <td>   1.000000</td>\n",
        "      <td>  -1.000000</td>\n",
        "      <td>   1.000000</td>\n",
        "      <td>   1.000000</td>\n",
        "      <td>   1.000000</td>\n",
        "    </tr>\n",
        "    <tr>\n",
        "      <th>25%</th>\n",
        "      <td> 174.500000</td>\n",
        "      <td>   870688.500000</td>\n",
        "      <td>   2.000000</td>\n",
        "      <td>   1.000000</td>\n",
        "      <td>   1.000000</td>\n",
        "      <td>   1.000000</td>\n",
        "      <td>   2.000000</td>\n",
        "      <td>   1.000000</td>\n",
        "      <td>   2.000000</td>\n",
        "      <td>   1.000000</td>\n",
        "      <td>   1.000000</td>\n",
        "    </tr>\n",
        "    <tr>\n",
        "      <th>50%</th>\n",
        "      <td> 349.000000</td>\n",
        "      <td>  1171710.000000</td>\n",
        "      <td>   4.000000</td>\n",
        "      <td>   1.000000</td>\n",
        "      <td>   1.000000</td>\n",
        "      <td>   1.000000</td>\n",
        "      <td>   2.000000</td>\n",
        "      <td>   1.000000</td>\n",
        "      <td>   3.000000</td>\n",
        "      <td>   1.000000</td>\n",
        "      <td>   1.000000</td>\n",
        "    </tr>\n",
        "    <tr>\n",
        "      <th>75%</th>\n",
        "      <td> 523.500000</td>\n",
        "      <td>  1238298.000000</td>\n",
        "      <td>   6.000000</td>\n",
        "      <td>   5.000000</td>\n",
        "      <td>   5.000000</td>\n",
        "      <td>   4.000000</td>\n",
        "      <td>   4.000000</td>\n",
        "      <td>   5.000000</td>\n",
        "      <td>   5.000000</td>\n",
        "      <td>   4.000000</td>\n",
        "      <td>   1.000000</td>\n",
        "    </tr>\n",
        "    <tr>\n",
        "      <th>max</th>\n",
        "      <td> 698.000000</td>\n",
        "      <td> 13454352.000000</td>\n",
        "      <td>  10.000000</td>\n",
        "      <td>  10.000000</td>\n",
        "      <td>  10.000000</td>\n",
        "      <td>  10.000000</td>\n",
        "      <td>  10.000000</td>\n",
        "      <td>  10.000000</td>\n",
        "      <td>  10.000000</td>\n",
        "      <td>  10.000000</td>\n",
        "      <td>  10.000000</td>\n",
        "    </tr>\n",
        "  </tbody>\n",
        "</table>\n",
        "</div>"
       ],
       "metadata": {},
       "output_type": "pyout",
       "prompt_number": 88,
       "text": [
        "       Unnamed: 0        id number  clump_thickness  uniformity_of_cell_size  \\\n",
        "count  699.000000       699.000000       699.000000               699.000000   \n",
        "mean   349.000000   1071704.098712         4.417740                 3.134478   \n",
        "std    201.928205    617095.729819         2.815741                 3.051459   \n",
        "min      0.000000     61634.000000         1.000000                 1.000000   \n",
        "25%    174.500000    870688.500000         2.000000                 1.000000   \n",
        "50%    349.000000   1171710.000000         4.000000                 1.000000   \n",
        "75%    523.500000   1238298.000000         6.000000                 5.000000   \n",
        "max    698.000000  13454352.000000        10.000000                10.000000   \n",
        "\n",
        "       uniformity_of_cell_shape  marginal_adhesion  epithelial_cell_size  \\\n",
        "count                699.000000         699.000000            699.000000   \n",
        "mean                   3.207439           2.806867              3.216023   \n",
        "std                    2.971913           2.855379              2.214300   \n",
        "min                    1.000000           1.000000              1.000000   \n",
        "25%                    1.000000           1.000000              2.000000   \n",
        "50%                    1.000000           1.000000              2.000000   \n",
        "75%                    5.000000           4.000000              4.000000   \n",
        "max                   10.000000          10.000000             10.000000   \n",
        "\n",
        "       bare_nuclei  bland_chromatin  normal_nucleoli     mitoses  \n",
        "count   699.000000       699.000000       699.000000  699.000000  \n",
        "mean      3.440629         3.437768         2.866953    1.589413  \n",
        "std       3.665507         2.438364         3.053634    1.715078  \n",
        "min      -1.000000         1.000000         1.000000    1.000000  \n",
        "25%       1.000000         2.000000         1.000000    1.000000  \n",
        "50%       1.000000         3.000000         1.000000    1.000000  \n",
        "75%       5.000000         5.000000         4.000000    1.000000  \n",
        "max      10.000000        10.000000        10.000000   10.000000  "
       ]
      }
     ],
     "prompt_number": 88
    },
    {
     "cell_type": "markdown",
     "metadata": {},
     "source": [
      "This data is solid and in a prime state for building a predictive model. All information is present and there are no categorical variables, which will make the model-building go very quickly. Beyond this, there's little need from an analytical standpoint to clean or normalize any of the data.\n",
      "\n",
      "###Benchmark Model: The First Predictor\n",
      "<li> This next piece of code represents our first basic model. It will serve to provide us with some idea of how accurate we can hope to be.\n",
      "<li> I will explain the model and its parameters after this initial model."
     ]
    },
    {
     "cell_type": "code",
     "collapsed": false,
     "input": [
      "#create RandomForestClassifier and assign it to model.\n",
      "model = rfc(n_estimators=1000, oob_score=True, random_state=42)\n",
      "\n",
      "#fit existing data into model.\n",
      "model.fit(X, y)"
     ],
     "language": "python",
     "metadata": {},
     "outputs": [
      {
       "metadata": {},
       "output_type": "pyout",
       "prompt_number": 89,
       "text": [
        "RandomForestClassifier(bootstrap=True, compute_importances=None,\n",
        "            criterion='gini', max_depth=None, max_features='auto',\n",
        "            max_leaf_nodes=None, min_density=None, min_samples_leaf=1,\n",
        "            min_samples_split=2, n_estimators=1000, n_jobs=1,\n",
        "            oob_score=True, random_state=42, verbose=0)"
       ]
      }
     ],
     "prompt_number": 89
    },
    {
     "cell_type": "markdown",
     "metadata": {},
     "source": [
      "###Initial Model: Scores and Importances:\n",
      "<li> The next several code inputs display the strengths of the Random Forest Regressor model and show us how successful our model was"
     ]
    },
    {
     "cell_type": "code",
     "collapsed": false,
     "input": [
      "#first score, auc\n",
      "roc = ras(y, model.predict_proba(X)[:,1])\n",
      "print \"C-Stat: \", roc"
     ],
     "language": "python",
     "metadata": {},
     "outputs": [
      {
       "output_type": "stream",
       "stream": "stdout",
       "text": [
        "C-Stat:  1.0\n"
       ]
      }
     ],
     "prompt_number": 90
    },
    {
     "cell_type": "markdown",
     "metadata": {},
     "source": [
      "Our C-stat metric represents the Area Under Curve score. A score of \"1\" for AUC would represent a perfect model. This model is already very successful in predicting malignant breast cancer tumors, but RFC contains some parameters that can further improve this score should we choose to do so. This predictor is power enough that such modifications are not necessary, but we can briefly examine them below:\n",
      "\n",
      "###Feature (variable) Importances:\n",
      "<li> As part of this demonstration, pandas can be used to display how important different attributes are in the prediction of malignant breast cancer."
     ]
    },
    {
     "cell_type": "code",
     "collapsed": false,
     "input": [
      "#Sort and graph variables by significance with respect to 'malignant'.\n",
      "feature_importances = pd.Series(model.feature_importances_, index=X.columns)\n",
      "feature_importances.sort()\n",
      "feature_importances.plot(kind=\"barh\", figsize =(7,6))"
     ],
     "language": "python",
     "metadata": {},
     "outputs": [
      {
       "metadata": {},
       "output_type": "pyout",
       "prompt_number": 91,
       "text": [
        "<matplotlib.axes._subplots.AxesSubplot at 0x18d9d550>"
       ]
      },
      {
       "metadata": {},
       "output_type": "display_data",
       "png": "[encoded data removed]",
       "text": [
        "<matplotlib.figure.Figure at 0x18d9d198>"
       ]
      }
     ],
     "prompt_number": 91
    },
    {
     "cell_type": "markdown",
     "metadata": {},
     "source": [
      "Even with no prior formal introduction to tumor detection, I can determine from this graph that uniformity of cell size is the strongest single predictive feature available. Not surprisingly, uniformity of shape follows second. This should demonstrate to your medical team that the model is strongly grounded in reality. However, cell size alone doesn't do nearly enough of a job. The other features present in this data must be used in the construction of our model, and they are. The following section will present changes in specific parameters along with explanations.\n",
      "\n",
      "###Number of Jobs\n",
      "<li> the n_jobs parameter effects the amount of time that it takes to build and test the model by determining whether or not multiple processors can be used. By tweaking this parameter, it is possible to run much faster tests. Let's time our model with an n_jobs score of 1 and -1 respectively. Comparing times taken between -1 and 1 will allow us to see which setting is faster at processing our model."
     ]
    },
    {
     "cell_type": "code",
     "collapsed": false,
     "input": [
      "%%timeit\n",
      "model = rfc(1000, oob_score=True, n_jobs=1, random_state=42)\n",
      "model.fit(X, y)\n",
      "#Return time in seconds from n_jobs = 1"
     ],
     "language": "python",
     "metadata": {},
     "outputs": [
      {
       "output_type": "stream",
       "stream": "stdout",
       "text": [
        "1 loops, best of 3: 686 ms per loop\n"
       ]
      }
     ],
     "prompt_number": 92
    },
    {
     "cell_type": "code",
     "collapsed": false,
     "input": [
      "%%timeit\n",
      "model = rfc(1000, oob_score=True, n_jobs=-1, random_state=42)\n",
      "model.fit(X, y)\n",
      "#Return time in seconds from n_jobs = -1"
     ],
     "language": "python",
     "metadata": {},
     "outputs": [
      {
       "output_type": "stream",
       "stream": "stdout",
       "text": [
        "1 loops, best of 3: 669 ms per loop\n"
       ]
      }
     ],
     "prompt_number": 93
    },
    {
     "cell_type": "markdown",
     "metadata": {},
     "source": [
      "By setting our n_jobs parameter to -1, the time it takes to perform a loop is slightly reduced. This could aid in the generation of future predictive models. In any case, it is a slight gain in performance, especially where sample sizes grow very large.\n",
      "\n",
      "#Estimator Options: How Random Forest Works\n",
      "<li> The next variable that we can adjust has to do with the essence of what makes RFC such a powerful predictive tool.\n",
      "\n",
      "<li> RFC works by splitting up data into successively smaller sets and building predictive models for those sets. However, RFC does not possess a self-contained way of finding the best number, location, or size of split. In order to find the best model, we will need to test models with vastly different amounts of trees, done below with parameter n_estimator_options. RFC will randomly construct however many models we specify and select the strongest predictor."
     ]
    },
    {
     "cell_type": "code",
     "collapsed": false,
     "input": [
      "#empty result container\n",
      "results = []\n",
      "\n",
      "#array and loop to test each number of estimator options individually. Highest auc score is best.\n",
      "n_estimator_options = [50,100,150,200,250,300,350,400,450,500,1000,2000,3000,4000,5000,6000,7000]\n",
      "for trees in n_estimator_options:\n",
      "    model = rfc(trees, oob_score=True, n_jobs=-1, random_state=42)\n",
      "    model.fit(X,y)\n",
      "    print trees, \"trees\"\n",
      "    roc = ras(y, model.predict_proba(X)[:,1])\n",
      "    print \"C-stat: \", roc\n",
      "    results.append(roc)\n",
      "    print \"\"\n",
      "\n",
      "#graph findings below for visual aid.\n",
      "pd.Series(results, n_estimator_options).plot();"
     ],
     "language": "python",
     "metadata": {},
     "outputs": [
      {
       "output_type": "stream",
       "stream": "stdout",
       "text": [
        "50 trees\n",
        "C-stat: "
       ]
      },
      {
       "output_type": "stream",
       "stream": "stdout",
       "text": [
        " 1.0\n",
        "\n",
        "100"
       ]
      },
      {
       "output_type": "stream",
       "stream": "stdout",
       "text": [
        " trees\n",
        "C-stat: "
       ]
      },
      {
       "output_type": "stream",
       "stream": "stdout",
       "text": [
        " 1.0\n",
        "\n",
        "150"
       ]
      },
      {
       "output_type": "stream",
       "stream": "stdout",
       "text": [
        " trees\n",
        "C-stat: "
       ]
      },
      {
       "output_type": "stream",
       "stream": "stdout",
       "text": [
        " 1.0\n",
        "\n",
        "200"
       ]
      },
      {
       "output_type": "stream",
       "stream": "stdout",
       "text": [
        " trees\n",
        "C-stat: "
       ]
      },
      {
       "output_type": "stream",
       "stream": "stdout",
       "text": [
        " 1.0\n",
        "\n",
        "250"
       ]
      },
      {
       "output_type": "stream",
       "stream": "stdout",
       "text": [
        " trees\n",
        "C-stat: "
       ]
      },
      {
       "output_type": "stream",
       "stream": "stdout",
       "text": [
        " 1.0\n",
        "\n",
        "300"
       ]
      },
      {
       "output_type": "stream",
       "stream": "stdout",
       "text": [
        " trees\n",
        "C-stat: "
       ]
      },
      {
       "output_type": "stream",
       "stream": "stdout",
       "text": [
        " 1.0\n",
        "\n",
        "350"
       ]
      },
      {
       "output_type": "stream",
       "stream": "stdout",
       "text": [
        " trees\n",
        "C-stat: "
       ]
      },
      {
       "output_type": "stream",
       "stream": "stdout",
       "text": [
        " 1.0\n",
        "\n",
        "400"
       ]
      },
      {
       "output_type": "stream",
       "stream": "stdout",
       "text": [
        " trees\n",
        "C-stat: "
       ]
      },
      {
       "output_type": "stream",
       "stream": "stdout",
       "text": [
        " 1.0\n",
        "\n",
        "450"
       ]
      },
      {
       "output_type": "stream",
       "stream": "stdout",
       "text": [
        " trees\n",
        "C-stat: "
       ]
      },
      {
       "output_type": "stream",
       "stream": "stdout",
       "text": [
        " 1.0\n",
        "\n",
        "500"
       ]
      },
      {
       "output_type": "stream",
       "stream": "stdout",
       "text": [
        " trees\n",
        "C-stat: "
       ]
      },
      {
       "output_type": "stream",
       "stream": "stdout",
       "text": [
        " 1.0\n",
        "\n",
        "1000"
       ]
      },
      {
       "output_type": "stream",
       "stream": "stdout",
       "text": [
        " trees\n",
        "C-stat: "
       ]
      },
      {
       "output_type": "stream",
       "stream": "stdout",
       "text": [
        " 1.0\n",
        "\n",
        "2000"
       ]
      },
      {
       "output_type": "stream",
       "stream": "stdout",
       "text": [
        " trees\n",
        "C-stat: "
       ]
      },
      {
       "output_type": "stream",
       "stream": "stdout",
       "text": [
        " 1.0\n",
        "\n",
        "3000"
       ]
      },
      {
       "output_type": "stream",
       "stream": "stdout",
       "text": [
        " trees\n",
        "C-stat: "
       ]
      },
      {
       "output_type": "stream",
       "stream": "stdout",
       "text": [
        " 1.0\n",
        "\n",
        "4000"
       ]
      },
      {
       "output_type": "stream",
       "stream": "stdout",
       "text": [
        " trees\n",
        "C-stat: "
       ]
      },
      {
       "output_type": "stream",
       "stream": "stdout",
       "text": [
        " 1.0\n",
        "\n",
        "5000"
       ]
      },
      {
       "output_type": "stream",
       "stream": "stdout",
       "text": [
        " trees\n",
        "C-stat: "
       ]
      },
      {
       "output_type": "stream",
       "stream": "stdout",
       "text": [
        " 1.0\n",
        "\n",
        "6000"
       ]
      },
      {
       "output_type": "stream",
       "stream": "stdout",
       "text": [
        " trees\n",
        "C-stat: "
       ]
      },
      {
       "output_type": "stream",
       "stream": "stdout",
       "text": [
        " 1.0\n",
        "\n",
        "7000"
       ]
      },
      {
       "output_type": "stream",
       "stream": "stdout",
       "text": [
        " trees\n",
        "C-stat: "
       ]
      },
      {
       "output_type": "stream",
       "stream": "stdout",
       "text": [
        " 1.0\n",
        "\n"
       ]
      },
      {
       "metadata": {},
       "output_type": "display_data",
       "png": "[encoded data removed]",
       "text": [
        "<matplotlib.figure.Figure at 0x1a5fa6d8>"
       ]
      }
     ],
     "prompt_number": 94
    },
    {
     "cell_type": "markdown",
     "metadata": {},
     "source": [
      "This model predicts with a high degree of accuracy. A score of \"1\" represents a near-perfect model. The N-estimators feature selects how many trees total should be built in the forest. For example, if n_estimators is set to 1000, the RFC will generate 1000 separate trees and select the best model for data representation.\n",
      "\n",
      "###Maximum Features Options:\n",
      "<li> We can also specify maximum features.\n",
      "\n",
      "<li>The following code will demonstrate the best parameter to attach to our model. We have not yet seen this parameter in the model construction as it is optional. The maximum features option specifies the number of variables contained within each split. For example, if there are 10 variables in our dataset, a max_features_option of 0.9 would only utilize 9 of them. This is useful because a random selection of the variables will occur, and could result in dropping a variable that harms the model's predictive power."
     ]
    },
    {
     "cell_type": "code",
     "collapsed": false,
     "input": [
      "#empty result container\n",
      "results = []\n",
      "\n",
      "#array containing possible options for maximum features\n",
      "max_features_options = [\"auto\" , None, \"sqrt\", \"log2\", 0.9, 0.2]\n",
      "\n",
      "for max_features in max_features_options:\n",
      "    model = rfc(n_estimators=100, oob_score=True, n_jobs=-1, random_state=42, max_features=max_features)\n",
      "    model.fit(X,y)\n",
      "    print max_features, \"option\"\n",
      "    roc = ras(y, model.predict_proba(X)[:,1])\n",
      "    print \"C-stat: \", roc\n",
      "    results.append(roc)\n",
      "    print \"\"\n",
      "\n",
      "#graph of max_features_option    \n",
      "pd.Series(results, max_features_options).plot(kind=\"barh\", xlim=(.98,1))"
     ],
     "language": "python",
     "metadata": {},
     "outputs": [
      {
       "output_type": "stream",
       "stream": "stdout",
       "text": [
        "auto option\n",
        "C-stat: "
       ]
      },
      {
       "output_type": "stream",
       "stream": "stdout",
       "text": [
        " 1.0\n",
        "\n",
        "None"
       ]
      },
      {
       "output_type": "stream",
       "stream": "stdout",
       "text": [
        " option\n",
        "C-stat: "
       ]
      },
      {
       "output_type": "stream",
       "stream": "stdout",
       "text": [
        " 1.0\n",
        "\n",
        "sqrt"
       ]
      },
      {
       "output_type": "stream",
       "stream": "stdout",
       "text": [
        " option\n",
        "C-stat: "
       ]
      },
      {
       "output_type": "stream",
       "stream": "stdout",
       "text": [
        " 1.0\n",
        "\n",
        "log2"
       ]
      },
      {
       "output_type": "stream",
       "stream": "stdout",
       "text": [
        " option\n",
        "C-stat: "
       ]
      },
      {
       "output_type": "stream",
       "stream": "stdout",
       "text": [
        " 1.0\n",
        "\n",
        "0.9"
       ]
      },
      {
       "output_type": "stream",
       "stream": "stdout",
       "text": [
        " option\n",
        "C-stat: "
       ]
      },
      {
       "output_type": "stream",
       "stream": "stdout",
       "text": [
        " 1.0\n",
        "\n",
        "0.2"
       ]
      },
      {
       "output_type": "stream",
       "stream": "stdout",
       "text": [
        " option\n",
        "C-stat: "
       ]
      },
      {
       "output_type": "stream",
       "stream": "stdout",
       "text": [
        " 1.0\n",
        "\n"
       ]
      },
      {
       "metadata": {},
       "output_type": "pyout",
       "prompt_number": 96,
       "text": [
        "<matplotlib.axes._subplots.AxesSubplot at 0x18e48390>"
       ]
      },
      {
       "metadata": {},
       "output_type": "display_data",
       "png": "[encoded data removed]",
       "text": [
        "<matplotlib.figure.Figure at 0x1fc8aba8>"
       ]
      }
     ],
     "prompt_number": 96
    },
    {
     "cell_type": "markdown",
     "metadata": {},
     "source": [
      "These options are all essentially identical in this model, but running the above-stated code might improve models at some point in the future, especially if contradictory data is added.\n",
      "\n",
      "###Minimum Samples, Leaf Options:\n",
      "<li> We can also specify an important feature of the trees we've constructed: the minimum samples per leaf. This means that if the RFC attempts to split the dataset in any way, any remaining leafs of the tree must possess a bare minimum of this parameter."
     ]
    },
    {
     "cell_type": "code",
     "collapsed": false,
     "input": [
      "results = []\n",
      "min_samples_leaf_options = [1,2,3,4,5,6,7,8,9,10,11,12,13,14,15,16,17,18,19,20]\n",
      "for min_samples in min_samples_leaf_options:\n",
      "    model = rfc(n_estimators=100, oob_score=True, n_jobs=-1, random_state=42, max_features=0.2, min_samples_leaf=min_samples)\n",
      "    model.fit(X,y)\n",
      "    print min_samples, \"min samples\"\n",
      "    roc = ras(y, model.predict_proba(X)[:,1])\n",
      "    print \"C-stat: \", roc\n",
      "    results.append(roc)\n",
      "    print \"\"\n",
      "    \n",
      "pd.Series(results, min_samples_leaf_options).plot();"
     ],
     "language": "python",
     "metadata": {},
     "outputs": [
      {
       "output_type": "stream",
       "stream": "stdout",
       "text": [
        "1 min samples\n",
        "C-stat: "
       ]
      },
      {
       "output_type": "stream",
       "stream": "stdout",
       "text": [
        " 1.0\n",
        "\n",
        "2"
       ]
      },
      {
       "output_type": "stream",
       "stream": "stdout",
       "text": [
        " min samples\n",
        "C-stat: "
       ]
      },
      {
       "output_type": "stream",
       "stream": "stdout",
       "text": [
        " 0.999791625143\n",
        "\n",
        "3"
       ]
      },
      {
       "output_type": "stream",
       "stream": "stdout",
       "text": [
        " min samples\n",
        "C-stat: "
       ]
      },
      {
       "output_type": "stream",
       "stream": "stdout",
       "text": [
        " 0.999121201689\n",
        "\n",
        "4"
       ]
      },
      {
       "output_type": "stream",
       "stream": "stdout",
       "text": [
        " min samples\n",
        "C-stat: "
       ]
      },
      {
       "output_type": "stream",
       "stream": "stdout",
       "text": [
        " 0.9983873598\n",
        "\n",
        "5"
       ]
      },
      {
       "output_type": "stream",
       "stream": "stdout",
       "text": [
        " min samples\n",
        "C-stat: "
       ]
      },
      {
       "output_type": "stream",
       "stream": "stdout",
       "text": [
        " 0.997735055899\n",
        "\n",
        "6"
       ]
      },
      {
       "output_type": "stream",
       "stream": "stdout",
       "text": [
        " min samples\n",
        "C-stat: "
       ]
      },
      {
       "output_type": "stream",
       "stream": "stdout",
       "text": [
        " 0.997200529091\n",
        "\n",
        "7"
       ]
      },
      {
       "output_type": "stream",
       "stream": "stdout",
       "text": [
        " min samples\n",
        "C-stat: "
       ]
      },
      {
       "output_type": "stream",
       "stream": "stdout",
       "text": [
        " 0.996883436917\n",
        "\n",
        "8"
       ]
      },
      {
       "output_type": "stream",
       "stream": "stdout",
       "text": [
        " min samples\n",
        "C-stat: "
       ]
      },
      {
       "output_type": "stream",
       "stream": "stdout",
       "text": [
        " 0.996176774357\n",
        "\n",
        "9"
       ]
      },
      {
       "output_type": "stream",
       "stream": "stdout",
       "text": [
        " min samples\n",
        "C-stat: "
       ]
      },
      {
       "output_type": "stream",
       "stream": "stdout",
       "text": [
        " 0.995941220171\n",
        "\n",
        "10"
       ]
      },
      {
       "output_type": "stream",
       "stream": "stdout",
       "text": [
        " min samples\n",
        "C-stat: "
       ]
      },
      {
       "output_type": "stream",
       "stream": "stdout",
       "text": [
        " 0.995750964866\n",
        "\n",
        "11"
       ]
      },
      {
       "output_type": "stream",
       "stream": "stdout",
       "text": [
        " min samples\n",
        "C-stat: "
       ]
      },
      {
       "output_type": "stream",
       "stream": "stdout",
       "text": [
        " 0.995479171574\n",
        "\n",
        "12"
       ]
      },
      {
       "output_type": "stream",
       "stream": "stdout",
       "text": [
        " min samples\n",
        "C-stat: "
       ]
      },
      {
       "output_type": "stream",
       "stream": "stdout",
       "text": [
        " 0.995479171574\n",
        "\n",
        "13"
       ]
      },
      {
       "output_type": "stream",
       "stream": "stdout",
       "text": [
        " min samples\n",
        "C-stat: "
       ]
      },
      {
       "output_type": "stream",
       "stream": "stdout",
       "text": [
        " 0.995198318505\n",
        "\n",
        "14"
       ]
      },
      {
       "output_type": "stream",
       "stream": "stdout",
       "text": [
        " min samples\n",
        "C-stat: "
       ]
      },
      {
       "output_type": "stream",
       "stream": "stdout",
       "text": [
        " 0.994536954828\n",
        "\n",
        "15"
       ]
      },
      {
       "output_type": "stream",
       "stream": "stdout",
       "text": [
        " min samples\n",
        "C-stat: "
       ]
      },
      {
       "output_type": "stream",
       "stream": "stdout",
       "text": [
        " 0.994310460418\n",
        "\n",
        "16"
       ]
      },
      {
       "output_type": "stream",
       "stream": "stdout",
       "text": [
        " min samples\n",
        "C-stat: "
       ]
      },
      {
       "output_type": "stream",
       "stream": "stdout",
       "text": [
        " 0.994301400641\n",
        "\n",
        "17"
       ]
      },
      {
       "output_type": "stream",
       "stream": "stdout",
       "text": [
        " min samples\n",
        "C-stat: "
       ]
      },
      {
       "output_type": "stream",
       "stream": "stdout",
       "text": [
        " 0.994111145337\n",
        "\n",
        "18"
       ]
      },
      {
       "output_type": "stream",
       "stream": "stdout",
       "text": [
        " min samples\n",
        "C-stat: "
       ]
      },
      {
       "output_type": "stream",
       "stream": "stdout",
       "text": [
        " 0.993812172716\n",
        "\n",
        "19"
       ]
      },
      {
       "output_type": "stream",
       "stream": "stdout",
       "text": [
        " min samples\n",
        "C-stat: "
       ]
      },
      {
       "output_type": "stream",
       "stream": "stdout",
       "text": [
        " 0.993739694504\n",
        "\n",
        "20"
       ]
      },
      {
       "output_type": "stream",
       "stream": "stdout",
       "text": [
        " min samples\n",
        "C-stat: "
       ]
      },
      {
       "output_type": "stream",
       "stream": "stdout",
       "text": [
        " 0.993739694504\n",
        "\n"
       ]
      },
      {
       "metadata": {},
       "output_type": "display_data",
       "png": "[encoded data removed]",
       "text": [
        "<matplotlib.figure.Figure at 0x1f07c7b8>"
       ]
      }
     ],
     "prompt_number": 97
    },
    {
     "cell_type": "markdown",
     "metadata": {},
     "source": [
      "This feature is an excellent representation of how inputs can effect the outcomes of the model. The min_samples represent the minimum number of data points in a single leaf. In this case, the wider we grow our min_sample value, the less effective it is at predicting values (the C-stat score decreases)."
     ]
    },
    {
     "cell_type": "markdown",
     "metadata": {},
     "source": [
      "###Final Model:\n",
      "<li> Our final model can be constructed with the parameters we found above:"
     ]
    },
    {
     "cell_type": "code",
     "collapsed": false,
     "input": [
      "#rebuild model with targeted parameters\n",
      "model = rfc(n_estimators=100, oob_score=True, n_jobs=-1, random_state=42, max_features=0.2, min_samples_leaf=1)\n",
      "model.fit(X,y)\n",
      "roc = ras(y, model.predict_proba(X)[:,1])\n",
      "print \"C-stat\", roc"
     ],
     "language": "python",
     "metadata": {},
     "outputs": [
      {
       "output_type": "stream",
       "stream": "stdout",
       "text": [
        "C-stat 1.0\n"
       ]
      }
     ],
     "prompt_number": 98
    },
    {
     "cell_type": "markdown",
     "metadata": {},
     "source": [
      "This model is roughly 100% accurate. While the parameters did not effect the findings of our model overall, they very easily could have had they been set to poor parameters (min leaves over 100, for example)."
     ]
    },
    {
     "cell_type": "code",
     "collapsed": false,
     "input": [
      "from sklearn.metrics import classification_report\n",
      "print \"---Final Model---\"\n",
      "base_roc = ras(y, model.predict_proba(X)[:,1])\n",
      "print \"Final AUC = %50.50f\" % base_roc\n",
      "print classification_report(y, model.predict(X))"
     ],
     "language": "python",
     "metadata": {},
     "outputs": [
      {
       "output_type": "stream",
       "stream": "stdout",
       "text": [
        "---Final Model---\n",
        "Final AUC = 1.00000000000000000000000000000000000000000000000000"
       ]
      },
      {
       "output_type": "stream",
       "stream": "stdout",
       "text": [
        "\n",
        "             precision    recall  f1-score   support\n",
        "\n",
        "          0       1.00      1.00      1.00       458\n",
        "          1       1.00      1.00      1.00       241\n",
        "\n",
        "avg / total       1.00      1.00      1.00       699\n"
       ]
      },
      {
       "output_type": "stream",
       "stream": "stdout",
       "text": [
        "\n"
       ]
      }
     ],
     "prompt_number": 105
    },
    {
     "cell_type": "markdown",
     "metadata": {},
     "source": [
      "This model is highly accurate. It never predicts a false positive, nor does it miss a malignant case (the precision and recall scores listed above).\n",
      "\n",
      "However, this model's predictive power is somewhat limited in that the sample size is somewhat small. It is entirely possible that, even though this model has successfully predicted malignant breast tumors in all of these cases, there could exist other cases with similar statistics for which the model will not successfully predict. The safest way to increase this is to enlarge the sample size."
     ]
    }
   ],
   "metadata": {}
  }
 ]
}